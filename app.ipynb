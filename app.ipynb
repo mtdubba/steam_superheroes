{
  "nbformat": 4,
  "nbformat_minor": 0,
  "metadata": {
    "colab": {
      "provenance": [],
      "authorship_tag": "ABX9TyO38uj7LVLgauFPh+E8ZUDI",
      "include_colab_link": true
    },
    "kernelspec": {
      "name": "python3",
      "display_name": "Python 3"
    },
    "language_info": {
      "name": "python"
    }
  },
  "cells": [
    {
      "cell_type": "markdown",
      "metadata": {
        "id": "view-in-github",
        "colab_type": "text"
      },
      "source": [
        "<a href=\"https://colab.research.google.com/github/mtdubba/steam_superheroes/blob/main/app.ipynb\" target=\"_parent\"><img src=\"https://colab.research.google.com/assets/colab-badge.svg\" alt=\"Open In Colab\"/></a>"
      ]
    },
    {
      "cell_type": "code",
      "execution_count": null,
      "metadata": {
        "id": "dJZSGAei-yJp"
      },
      "outputs": [],
      "source": [
        "# Install streamlit before running: pip install streamlit\n",
        "import streamlit as st\n",
        "\n",
        "# Setting up the sidebar\n",
        "st.sidebar.title(\"Mentorship Program Dashboard\")\n",
        "st.sidebar.write(\"Use this dashboard to monitor mentor-mentee matches, manage scheduling, and analyze metrics.\")\n",
        "\n",
        "# Layout: 3 columns\n",
        "col1, col2, col3 = st.columns(3)\n",
        "\n",
        "# Column 1: Mentor-Mentee Matches\n",
        "with col1:\n",
        "    st.header(\"Mentor-Mentee Matches\")\n",
        "    # Placeholder for displaying match info (this can be replaced with dynamic data)\n",
        "    st.subheader(\"Current Matches\")\n",
        "    st.table({\n",
        "        \"Mentor\": [\"Alice\", \"Bob\", \"Charlie\"],\n",
        "        \"Mentee\": [\"John\", \"Emma\", \"Sophia\"],\n",
        "        \"Match Date\": [\"2024-10-01\", \"2024-09-28\", \"2024-09-20\"]\n",
        "    })\n",
        "\n",
        "    st.subheader(\"Pending Matches\")\n",
        "    st.write(\"No pending matches at the moment.\")\n",
        "\n",
        "# Column 2: Scheduling Options and Automation\n",
        "with col2:\n",
        "    st.header(\"Scheduling and Automation\")\n",
        "\n",
        "    # Scheduling options\n",
        "    st.date_input(\"Select Meeting Date\")\n",
        "    st.time_input(\"Select Meeting Time\")\n",
        "    st.text_input(\"Enter Location (Zoom or Physical Address)\")\n",
        "\n",
        "    # Automation options\n",
        "    send_email = st.checkbox(\"Send Email Notification\")\n",
        "    send_text = st.checkbox(\"Send Text Notification\")\n",
        "\n",
        "    if st.button(\"Send Schedule to Mentor and Mentee\"):\n",
        "        # Logic for sending schedules (API calls to email or SMS services)\n",
        "        st.success(\"Schedule sent successfully!\")\n",
        "\n",
        "# Column 3: Metrics of Meetings\n",
        "with col3:\n",
        "    st.header(\"Meeting Metrics\")\n",
        "\n",
        "    # Metrics display (dummy data; replace with real data processing logic)\n",
        "    st.metric(\"Total Meetings\", \"15\")\n",
        "    st.metric(\"Average Meeting Duration\", \"45 min\")\n",
        "    st.metric(\"In-person Meetings\", \"5\")\n",
        "    st.metric(\"Zoom Meetings\", \"10\")\n",
        "\n",
        "    # Display additional meeting details\n",
        "    st.subheader(\"Meeting History\")\n",
        "    st.table({\n",
        "        \"Mentor\": [\"Alice\", \"Bob\", \"Charlie\"],\n",
        "        \"Mentee\": [\"John\", \"Emma\", \"Sophia\"],\n",
        "        \"Duration (min)\": [60, 30, 45],\n",
        "        \"Location\": [\"Zoom\", \"Office\", \"Zoom\"]\n",
        "    })\n",
        "\n",
        "# Running Streamlit App\n",
        "# Save the file as 'app.py' and run `streamlit run app.py` in your terminal.\n"
      ]
    },
    {
      "cell_type": "code",
      "source": [
        "# Install Streamlit and pyngrok\n",
        "!pip install streamlit pyngrok\n"
      ],
      "metadata": {
        "id": "mcKjsKEFXB2w"
      },
      "execution_count": null,
      "outputs": []
    },
    {
      "cell_type": "code",
      "source": [
        "%%writefile app.py\n",
        "import streamlit as st\n",
        "\n",
        "# Streamlit App Content\n",
        "st.title(\"Mentorship Program Dashboard\")\n",
        "\n",
        "# Three-column layout\n",
        "col1, col2, col3 = st.columns(3)\n",
        "\n",
        "# Column 1: Mentor-Mentee Matches\n",
        "with col1:\n",
        "    st.header(\"Mentor-Mentee Matches\")\n",
        "    st.write(\"View your mentor and mentee matches.\")\n",
        "    st.table({\n",
        "        \"Mentor\": [\"Alice\", \"Bob\", \"Charlie\"],\n",
        "        \"Mentee\": [\"John\", \"Emma\", \"Sophia\"],\n",
        "        \"Match Date\": [\"2024-10-01\", \"2024-09-28\", \"2024-09-20\"]\n",
        "    })\n",
        "\n",
        "# Column 2: Scheduling Options\n",
        "with col2:\n",
        "    st.header(\"Scheduling and Automation\")\n",
        "    date = st.date_input(\"Select Meeting Date\")\n",
        "    time = st.time_input(\"Select Meeting Time\")\n",
        "    location = st.text_input(\"Enter Location (Zoom or Address)\")\n",
        "\n",
        "    if st.button(\"Send Schedule\"):\n",
        "        st.success(f\"Meeting scheduled on {date} at {time} at {location}!\")\n",
        "\n",
        "# Column 3: Meeting Metrics\n",
        "with col3:\n",
        "    st.header(\"Meeting Metrics\")\n",
        "    st.metric(\"Total Meetings\", \"15\")\n",
        "    st.metric(\"Average Duration\", \"45 minutes\")\n",
        "    st.metric(\"Zoom Meetings\", \"10\")\n",
        "    st.metric(\"In-Person Meetings\", \"5\")\n"
      ],
      "metadata": {
        "colab": {
          "base_uri": "https://localhost:8080/"
        },
        "id": "S8QzAQTlXJFV",
        "outputId": "8ccb76d6-4452-47b3-b41e-aff193b67ff0"
      },
      "execution_count": 19,
      "outputs": [
        {
          "output_type": "stream",
          "name": "stdout",
          "text": [
            "Overwriting app.py\n"
          ]
        }
      ]
    },
    {
      "cell_type": "code",
      "source": [
        "from pyngrok import ngrok\n",
        "\n",
        "# Set your ngrok authtoken (replace YOUR_AUTHTOKEN with your actual token)\n",
        "!ngrok config add-authtoken 2nMN28Gvm5bbps9SbPp5zT84yep_yP42yF5BMJouBK1oAYNW\n",
        "\n",
        "# Start the ngrok tunnel\n",
        "public_url = ngrok.connect(8501, \"http\")\n",
        "print(f\"Public URL: {public_url}\")\n"
      ],
      "metadata": {
        "colab": {
          "base_uri": "https://localhost:8080/"
        },
        "id": "mmzD7QGMXO6t",
        "outputId": "25ef88d4-03fc-4104-e4a4-0708b2fae6b3"
      },
      "execution_count": 21,
      "outputs": [
        {
          "output_type": "stream",
          "name": "stdout",
          "text": [
            "Authtoken saved to configuration file: /root/.config/ngrok/ngrok.yml\n",
            "Public URL: NgrokTunnel: \"https://d3ff-35-247-104-176.ngrok-free.app\" -> \"http://localhost:8501\"\n"
          ]
        }
      ]
    },
    {
      "cell_type": "code",
      "source": [],
      "metadata": {
        "id": "_f9hoWxvXtzW"
      },
      "execution_count": 9,
      "outputs": []
    },
    {
      "cell_type": "code",
      "source": [
        "\n"
      ],
      "metadata": {
        "colab": {
          "base_uri": "https://localhost:8080/"
        },
        "id": "MBG-3WHbXwsS",
        "outputId": "0b8f994c-32c1-4ce1-bf60-012548fbd7ec"
      },
      "execution_count": 10,
      "outputs": [
        {
          "output_type": "stream",
          "name": "stdout",
          "text": [
            "root        2077  0.0  0.0   6484  2224 ?        S    10:14   0:00 grep streamlit\n"
          ]
        }
      ]
    },
    {
      "cell_type": "code",
      "source": [],
      "metadata": {
        "colab": {
          "base_uri": "https://localhost:8080/"
        },
        "id": "K4A41nV3YC7e",
        "outputId": "d62a9160-310a-4c72-94b0-269c77619830"
      },
      "execution_count": 13,
      "outputs": [
        {
          "output_type": "stream",
          "name": "stdout",
          "text": [
            "root        2378  0.0  0.0   6484  2280 ?        S    10:15   0:00 grep streamlit\n"
          ]
        }
      ]
    }
  ]
}